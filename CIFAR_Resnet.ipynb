{
  "nbformat": 4,
  "nbformat_minor": 0,
  "metadata": {
    "colab": {
      "provenance": []
    },
    "kernelspec": {
      "name": "python3",
      "display_name": "Python 3"
    },
    "language_info": {
      "name": "python"
    },
    "accelerator": "GPU",
    "gpuClass": "standard"
  },
  "cells": [
    {
      "cell_type": "markdown",
      "source": [
        "## Code for Mini Project"
      ],
      "metadata": {
        "id": "ybEk7b0KP6hD"
      }
    },
    {
      "cell_type": "markdown",
      "source": [
        "Amritpal Singh, Ozan Aygun, Ruth Gebremedhin\n",
        "\n",
        "Used Resources:\n",
        "\n",
        "https://github.com/kuangliu/pytorch-cifar (Shared in the assignment)\n",
        "\n",
        "https://blog.paperspace.com/writing-resnet-from-scratch-in-pytorch/ \n",
        "\n",
        "Completed code for HW2-Q4.\n"
      ],
      "metadata": {
        "id": "Ped_709mM_Im"
      }
    },
    {
      "cell_type": "code",
      "execution_count": 192,
      "metadata": {
        "id": "ODgTWnQilYKZ"
      },
      "outputs": [],
      "source": [
        "import torch\n",
        "import torch.nn as nn\n",
        "import torch.nn.functional as F\n",
        "import torch.optim as optim\n",
        "from torch.optim.lr_scheduler import _LRScheduler\n",
        "import torch.utils.data as data\n",
        "\n",
        "import torchvision.transforms as transforms\n",
        "import torchvision.datasets as datasets\n",
        "\n",
        "from sklearn import decomposition\n",
        "from sklearn import manifold\n",
        "from sklearn.metrics import confusion_matrix\n",
        "from sklearn.metrics import ConfusionMatrixDisplay\n",
        "import matplotlib.pyplot as plt\n",
        "import numpy as np\n",
        "\n",
        "import copy\n",
        "import random\n",
        "import time"
      ]
    },
    {
      "cell_type": "code",
      "source": [
        "# Downloading the dataset\n",
        "ROOT = '.data'\n",
        "train_data = datasets.CIFAR10(root = ROOT, \n",
        "                              train = True, \n",
        "                              download = True)"
      ],
      "metadata": {
        "colab": {
          "base_uri": "https://localhost:8080/"
        },
        "id": "eTSH4-EGlgjb",
        "outputId": "bbd5c716-526c-4a5a-bffd-dfb5f7e1a519"
      },
      "execution_count": 193,
      "outputs": [
        {
          "output_type": "stream",
          "name": "stdout",
          "text": [
            "Files already downloaded and verified\n"
          ]
        }
      ]
    },
    {
      "cell_type": "code",
      "source": [
        "# Compute means and standard deviations along the R,G,B channel\n",
        "\n",
        "means = train_data.data.mean(axis = (0,1,2)) / 255\n",
        "stds = train_data.data.std(axis = (0,1,2)) / 255"
      ],
      "metadata": {
        "id": "OzJJ39m_lvsg"
      },
      "execution_count": 194,
      "outputs": []
    },
    {
      "cell_type": "code",
      "source": [
        "# random flips and rotations to train datasets\n",
        "train_transforms = transforms.Compose([\n",
        "                           transforms.RandomRotation(5),\n",
        "                           transforms.RandomHorizontalFlip(0.5),\n",
        "                           transforms.RandomCrop(32, padding = 2),\n",
        "                           transforms.ToTensor(),\n",
        "                           transforms.Normalize(mean = means, \n",
        "                                                std = stds)\n",
        "                       ])\n",
        "\n",
        "test_transforms = transforms.Compose([\n",
        "                           transforms.ToTensor(),\n",
        "                           transforms.Normalize(mean = means, \n",
        "                                                std = stds)\n",
        "                       ])"
      ],
      "metadata": {
        "id": "Y5Fk3HKslzF5"
      },
      "execution_count": 195,
      "outputs": []
    },
    {
      "cell_type": "code",
      "source": [
        "# Construction training and test datasets\n",
        "train_data = datasets.CIFAR10(ROOT, \n",
        "                              train = True, \n",
        "                              download = True, \n",
        "                              transform = train_transforms)\n",
        "\n",
        "test_data = datasets.CIFAR10(ROOT, \n",
        "                             train = False, \n",
        "                             download = True, \n",
        "                             transform = test_transforms)"
      ],
      "metadata": {
        "colab": {
          "base_uri": "https://localhost:8080/"
        },
        "id": "mhC1BmCFl2PW",
        "outputId": "840df179-c071-4b56-bf2d-eb3f5a4681c4"
      },
      "execution_count": 196,
      "outputs": [
        {
          "output_type": "stream",
          "name": "stdout",
          "text": [
            "Files already downloaded and verified\n",
            "Files already downloaded and verified\n"
          ]
        }
      ]
    },
    {
      "cell_type": "code",
      "source": [
        "# Constructing validation dataset\n",
        "VALID_RATIO = 0.9\n",
        "\n",
        "n_train_examples = int(len(train_data) * VALID_RATIO)\n",
        "n_valid_examples = len(train_data) - n_train_examples\n",
        "\n",
        "train_data, valid_data = data.random_split(train_data, \n",
        "                                           [n_train_examples, n_valid_examples])"
      ],
      "metadata": {
        "id": "PBX4-ottl4Ks"
      },
      "execution_count": 197,
      "outputs": []
    },
    {
      "cell_type": "code",
      "source": [
        "valid_data = copy.deepcopy(valid_data)\n",
        "valid_data.dataset.transform = test_transforms"
      ],
      "metadata": {
        "id": "736HN_u3l6a_"
      },
      "execution_count": 198,
      "outputs": []
    },
    {
      "cell_type": "code",
      "source": [
        "BATCH_SIZE = 64\n",
        "# Dataloaders\n",
        "train_iterator = torch.utils.data.DataLoader(train_data,batch_size= BATCH_SIZE,shuffle=True)\n",
        "\n",
        "valid_iterator = torch.utils.data.DataLoader(valid_data,batch_size= BATCH_SIZE,shuffle=False)\n",
        "\n",
        "test_iterator = torch.utils.data.DataLoader(test_data,batch_size= BATCH_SIZE,shuffle=False)"
      ],
      "metadata": {
        "id": "_CZcfkbwl9-3"
      },
      "execution_count": 199,
      "outputs": []
    },
    {
      "cell_type": "code",
      "source": [
        "# Small convolutional blocks\n",
        "\n",
        "# Construction of residual block using the basic block. \n",
        "\n",
        "class BasicBlock(nn.Module):\n",
        "    expansion = 1\n",
        "\n",
        "    def __init__(self, in_planes, planes, stride=1):\n",
        "        super(BasicBlock, self).__init__()\n",
        "        self.conv1 = nn.Conv2d(\n",
        "            in_planes, planes, kernel_size=3, stride=stride, padding=1, bias=False)\n",
        "        self.bn1 = nn.BatchNorm2d(planes)\n",
        "        self.conv2 = nn.Conv2d(planes, planes, kernel_size=3,\n",
        "                               stride=1, padding=1, bias=False)\n",
        "        self.bn2 = nn.BatchNorm2d(planes)\n",
        "        self.dropout02 = nn.Dropout(p=0.2)\n",
        "\n",
        "        self.shortcut = nn.Sequential()\n",
        "        if stride != 1 or in_planes != self.expansion*planes:\n",
        "            self.shortcut = nn.Sequential(\n",
        "                nn.Conv2d(in_planes, self.expansion*planes,\n",
        "                          kernel_size=1, stride=stride, bias=False),\n",
        "                nn.BatchNorm2d(self.expansion*planes)\n",
        "            )\n",
        "\n",
        "    def forward(self, x):\n",
        "        out = self.dropout02(F.relu(self.bn1(self.conv1(x))))\n",
        "        out = self.dropout02(self.bn2(self.conv2(out)))\n",
        "        out += self.shortcut(x)\n",
        "        out = F.relu(out)\n",
        "        return out\n"
      ],
      "metadata": {
        "id": "aRQg6tWAmMGy"
      },
      "execution_count": 200,
      "outputs": []
    },
    {
      "cell_type": "code",
      "source": [
        "# Construction of custom resnet network using the small blocks defined above.\n",
        "\n",
        "class ResNet(nn.Module):\n",
        "    def __init__(self, block, num_blocks, num_classes=10):\n",
        "        super(ResNet, self).__init__()\n",
        "        self.in_planes = 64\n",
        "\n",
        "        self.conv1 = nn.Conv2d(3, 64, kernel_size=3,\n",
        "                               stride=1, padding=1, bias=False)\n",
        "        self.bn1 = nn.BatchNorm2d(64)\n",
        "        self.layer1 = self._make_layer(block, 32, num_blocks[0], stride=1)\n",
        "        self.layer2 = self._make_layer(block, 64, num_blocks[1], stride=1)\n",
        "        self.layer3 = self._make_layer(block, 128, num_blocks[2], stride=2)\n",
        "        self.layer4 = self._make_layer(block, 256, num_blocks[3], stride=2)\n",
        "        self.layer5 = self._make_layer(block, 512, num_blocks[4], stride=2)\n",
        "        self.linear = nn.Linear(512, num_classes)\n",
        "\n",
        "\n",
        "    def _make_layer(self, block, planes, num_blocks, stride):\n",
        "        strides = [stride] + [1]*(num_blocks-1)\n",
        "        layers = []\n",
        "        for stride in strides:\n",
        "            layers.append(block(self.in_planes, planes, stride))\n",
        "            self.in_planes = planes * block.expansion\n",
        "        return nn.Sequential(*layers)\n",
        "\n",
        "    def forward(self, x):\n",
        "        out = F.relu(self.bn1(self.conv1(x)))\n",
        "        out = self.layer1(out)\n",
        "        out = self.layer2(out)\n",
        "        out = self.layer3(out)\n",
        "        out = self.layer4(out)\n",
        "        out = self.layer5(out)\n",
        "        out = F.avg_pool2d(out, 4)\n",
        "        out = out.view(out.size(0), -1)\n",
        "        out = self.linear(out)\n",
        "        return out"
      ],
      "metadata": {
        "id": "YU-llfPomPvI"
      },
      "execution_count": 322,
      "outputs": []
    },
    {
      "cell_type": "code",
      "source": [
        "# Parameter initialization using Kaiming normal.\n",
        "\n",
        "def initialize_parameters(m):\n",
        "    if isinstance(m, nn.Conv2d):\n",
        "        nn.init.kaiming_normal_(m.weight.data, nonlinearity = 'relu')\n",
        "        nn.init.constant_(m.bias.data, 0)\n",
        "    elif isinstance(m, nn.Linear):\n",
        "        nn.init.xavier_normal_(m.weight.data, gain = nn.init.calculate_gain('relu'))\n",
        "        nn.init.constant_(m.bias.data, 0)"
      ],
      "metadata": {
        "id": "Hoova69BmiqA"
      },
      "execution_count": 323,
      "outputs": []
    },
    {
      "cell_type": "code",
      "source": [
        "num_classes = 10\n",
        "learning_rate = 1e-3\n",
        "\n",
        "device = torch.device('cuda' if torch.cuda.is_available() else 'cpu')\n",
        "\n",
        "model = ResNet(BasicBlock, [2, 1, 1, 1, 1]).to(device)\n",
        "initialize_parameters(model)\n",
        "\n",
        "# Loss and optimizer\n",
        "\n",
        "optimizer = optim.Adam(model.parameters(), lr = learning_rate)\n",
        "criterion = nn.CrossEntropyLoss()\n",
        "\n",
        "model = model.to(device)\n",
        "criterion = criterion.to(device)\n"
      ],
      "metadata": {
        "id": "u_mlALgNmVfD"
      },
      "execution_count": 324,
      "outputs": []
    },
    {
      "cell_type": "markdown",
      "source": [
        "Number of parameters:"
      ],
      "metadata": {
        "id": "L-Sh9HG-Re3-"
      }
    },
    {
      "cell_type": "code",
      "source": [
        "print(sum(p.numel() for p in model.parameters() if p.requires_grad))"
      ],
      "metadata": {
        "colab": {
          "base_uri": "https://localhost:8080/"
        },
        "id": "MXY2yKHXn8j-",
        "outputId": "a315be0e-9770-4505-b96a-181db647d529"
      },
      "execution_count": 325,
      "outputs": [
        {
          "output_type": "stream",
          "name": "stdout",
          "text": [
            "4935434\n"
          ]
        }
      ]
    },
    {
      "cell_type": "code",
      "source": [
        "model"
      ],
      "metadata": {
        "colab": {
          "base_uri": "https://localhost:8080/"
        },
        "id": "AEwKrz7_s7-6",
        "outputId": "ae468bed-5fcb-4dfa-9ac5-387ee8b79113"
      },
      "execution_count": 326,
      "outputs": [
        {
          "output_type": "execute_result",
          "data": {
            "text/plain": [
              "ResNet(\n",
              "  (conv1): Conv2d(3, 64, kernel_size=(3, 3), stride=(1, 1), padding=(1, 1), bias=False)\n",
              "  (bn1): BatchNorm2d(64, eps=1e-05, momentum=0.1, affine=True, track_running_stats=True)\n",
              "  (layer1): Sequential(\n",
              "    (0): BasicBlock(\n",
              "      (conv1): Conv2d(64, 32, kernel_size=(3, 3), stride=(1, 1), padding=(1, 1), bias=False)\n",
              "      (bn1): BatchNorm2d(32, eps=1e-05, momentum=0.1, affine=True, track_running_stats=True)\n",
              "      (conv2): Conv2d(32, 32, kernel_size=(3, 3), stride=(1, 1), padding=(1, 1), bias=False)\n",
              "      (bn2): BatchNorm2d(32, eps=1e-05, momentum=0.1, affine=True, track_running_stats=True)\n",
              "      (dropout02): Dropout(p=0.2, inplace=False)\n",
              "      (shortcut): Sequential(\n",
              "        (0): Conv2d(64, 32, kernel_size=(1, 1), stride=(1, 1), bias=False)\n",
              "        (1): BatchNorm2d(32, eps=1e-05, momentum=0.1, affine=True, track_running_stats=True)\n",
              "      )\n",
              "    )\n",
              "    (1): BasicBlock(\n",
              "      (conv1): Conv2d(32, 32, kernel_size=(3, 3), stride=(1, 1), padding=(1, 1), bias=False)\n",
              "      (bn1): BatchNorm2d(32, eps=1e-05, momentum=0.1, affine=True, track_running_stats=True)\n",
              "      (conv2): Conv2d(32, 32, kernel_size=(3, 3), stride=(1, 1), padding=(1, 1), bias=False)\n",
              "      (bn2): BatchNorm2d(32, eps=1e-05, momentum=0.1, affine=True, track_running_stats=True)\n",
              "      (dropout02): Dropout(p=0.2, inplace=False)\n",
              "      (shortcut): Sequential()\n",
              "    )\n",
              "  )\n",
              "  (layer2): Sequential(\n",
              "    (0): BasicBlock(\n",
              "      (conv1): Conv2d(32, 64, kernel_size=(3, 3), stride=(1, 1), padding=(1, 1), bias=False)\n",
              "      (bn1): BatchNorm2d(64, eps=1e-05, momentum=0.1, affine=True, track_running_stats=True)\n",
              "      (conv2): Conv2d(64, 64, kernel_size=(3, 3), stride=(1, 1), padding=(1, 1), bias=False)\n",
              "      (bn2): BatchNorm2d(64, eps=1e-05, momentum=0.1, affine=True, track_running_stats=True)\n",
              "      (dropout02): Dropout(p=0.2, inplace=False)\n",
              "      (shortcut): Sequential(\n",
              "        (0): Conv2d(32, 64, kernel_size=(1, 1), stride=(1, 1), bias=False)\n",
              "        (1): BatchNorm2d(64, eps=1e-05, momentum=0.1, affine=True, track_running_stats=True)\n",
              "      )\n",
              "    )\n",
              "  )\n",
              "  (layer3): Sequential(\n",
              "    (0): BasicBlock(\n",
              "      (conv1): Conv2d(64, 128, kernel_size=(3, 3), stride=(2, 2), padding=(1, 1), bias=False)\n",
              "      (bn1): BatchNorm2d(128, eps=1e-05, momentum=0.1, affine=True, track_running_stats=True)\n",
              "      (conv2): Conv2d(128, 128, kernel_size=(3, 3), stride=(1, 1), padding=(1, 1), bias=False)\n",
              "      (bn2): BatchNorm2d(128, eps=1e-05, momentum=0.1, affine=True, track_running_stats=True)\n",
              "      (dropout02): Dropout(p=0.2, inplace=False)\n",
              "      (shortcut): Sequential(\n",
              "        (0): Conv2d(64, 128, kernel_size=(1, 1), stride=(2, 2), bias=False)\n",
              "        (1): BatchNorm2d(128, eps=1e-05, momentum=0.1, affine=True, track_running_stats=True)\n",
              "      )\n",
              "    )\n",
              "  )\n",
              "  (layer4): Sequential(\n",
              "    (0): BasicBlock(\n",
              "      (conv1): Conv2d(128, 256, kernel_size=(3, 3), stride=(2, 2), padding=(1, 1), bias=False)\n",
              "      (bn1): BatchNorm2d(256, eps=1e-05, momentum=0.1, affine=True, track_running_stats=True)\n",
              "      (conv2): Conv2d(256, 256, kernel_size=(3, 3), stride=(1, 1), padding=(1, 1), bias=False)\n",
              "      (bn2): BatchNorm2d(256, eps=1e-05, momentum=0.1, affine=True, track_running_stats=True)\n",
              "      (dropout02): Dropout(p=0.2, inplace=False)\n",
              "      (shortcut): Sequential(\n",
              "        (0): Conv2d(128, 256, kernel_size=(1, 1), stride=(2, 2), bias=False)\n",
              "        (1): BatchNorm2d(256, eps=1e-05, momentum=0.1, affine=True, track_running_stats=True)\n",
              "      )\n",
              "    )\n",
              "  )\n",
              "  (layer5): Sequential(\n",
              "    (0): BasicBlock(\n",
              "      (conv1): Conv2d(256, 512, kernel_size=(3, 3), stride=(2, 2), padding=(1, 1), bias=False)\n",
              "      (bn1): BatchNorm2d(512, eps=1e-05, momentum=0.1, affine=True, track_running_stats=True)\n",
              "      (conv2): Conv2d(512, 512, kernel_size=(3, 3), stride=(1, 1), padding=(1, 1), bias=False)\n",
              "      (bn2): BatchNorm2d(512, eps=1e-05, momentum=0.1, affine=True, track_running_stats=True)\n",
              "      (dropout02): Dropout(p=0.2, inplace=False)\n",
              "      (shortcut): Sequential(\n",
              "        (0): Conv2d(256, 512, kernel_size=(1, 1), stride=(2, 2), bias=False)\n",
              "        (1): BatchNorm2d(512, eps=1e-05, momentum=0.1, affine=True, track_running_stats=True)\n",
              "      )\n",
              "    )\n",
              "  )\n",
              "  (linear): Linear(in_features=512, out_features=10, bias=True)\n",
              ")"
            ]
          },
          "metadata": {},
          "execution_count": 326
        }
      ]
    },
    {
      "cell_type": "code",
      "source": [
        "# Function that calculates the accuracy\n",
        "def calculate_accuracy(y_pred, y):\n",
        "    top_pred = y_pred.argmax(1, keepdim = True)\n",
        "    correct = top_pred.eq(y.view_as(top_pred)).sum()\n",
        "    acc = correct.float() / y.shape[0]\n",
        "    return acc"
      ],
      "metadata": {
        "id": "cllip0tDmdz3"
      },
      "execution_count": 327,
      "outputs": []
    },
    {
      "cell_type": "code",
      "source": [
        "# Training function used in previous homework\n",
        "def train(model, iterator, optimizer, criterion, device):\n",
        "    \n",
        "    epoch_loss = 0\n",
        "    epoch_acc = 0\n",
        "    \n",
        "    model.train()\n",
        "    \n",
        "    for (x, y) in iterator:\n",
        "        \n",
        "        x = x.to(device)\n",
        "        y = y.to(device)\n",
        "        \n",
        "        optimizer.zero_grad()\n",
        "                \n",
        "        y_pred = model(x)\n",
        "        \n",
        "        loss = criterion(y_pred, y)\n",
        "        \n",
        "        acc = calculate_accuracy(y_pred, y)\n",
        "        \n",
        "        loss.backward()\n",
        "        \n",
        "        optimizer.step()\n",
        "        \n",
        "        epoch_loss += loss.item()\n",
        "        epoch_acc += acc.item()\n",
        "        \n",
        "    return epoch_loss / len(iterator), epoch_acc / len(iterator)"
      ],
      "metadata": {
        "id": "6Qk961FcmudC"
      },
      "execution_count": 328,
      "outputs": []
    },
    {
      "cell_type": "code",
      "source": [
        "# Evaluate function taken from the previous homework.\n",
        "def evaluate(model, iterator, criterion, device):\n",
        "    \n",
        "    epoch_loss = 0\n",
        "    epoch_acc = 0\n",
        "    \n",
        "    model.eval()\n",
        "    \n",
        "    with torch.no_grad():\n",
        "        \n",
        "        for (x, y) in iterator:\n",
        "\n",
        "            x = x.to(device)\n",
        "            y = y.to(device)\n",
        "\n",
        "            y_pred = model(x)\n",
        "\n",
        "            loss = criterion(y_pred, y)\n",
        "\n",
        "            acc = calculate_accuracy(y_pred, y)\n",
        "\n",
        "            epoch_loss += loss.item()\n",
        "            epoch_acc += acc.item()\n",
        "        \n",
        "    return epoch_loss / len(iterator), epoch_acc / len(iterator)"
      ],
      "metadata": {
        "id": "uTAiU5wKmya4"
      },
      "execution_count": 329,
      "outputs": []
    },
    {
      "cell_type": "code",
      "source": [
        "def epoch_time(start_time, end_time):\n",
        "    elapsed_time = end_time - start_time\n",
        "    elapsed_mins = int(elapsed_time / 60)\n",
        "    elapsed_secs = int(elapsed_time - (elapsed_mins * 60))\n",
        "    return elapsed_mins, elapsed_secs"
      ],
      "metadata": {
        "id": "OYLyzy8Nm1_w"
      },
      "execution_count": 330,
      "outputs": []
    },
    {
      "cell_type": "code",
      "source": [
        "EPOCHS = 40\n",
        "\n",
        "valid_loss_vals = []\n",
        "valid_acc_vals = []\n",
        "\n",
        "temp_best_valid_loss = np.inf\n",
        "\n",
        "for epoch in range(EPOCHS):\n",
        "    # Time value has been stored for elapsed time\n",
        "    start_time = time.time()\n",
        "    # Training and performance outputs\n",
        "    train_loss, train_acc = train(model, train_iterator, optimizer, criterion, device)\n",
        "    print(\"Epoch {}/{}, Training Loss: {:.3f}, Training Accuracy: {:.3f}\".format(epoch+1,EPOCHS, train_loss, train_acc))\n",
        "    # Evaluating with validation dataset\n",
        "    valid_loss , valid_acc = evaluate(model, valid_iterator, criterion, device)\n",
        "    # Keeping track of loss and accuracy values\n",
        "    valid_loss_vals.append(valid_loss)\n",
        "    valid_acc_vals.append(valid_acc)\n",
        "    # Performance outputs\n",
        "    print(\"Epoch {}/{}, Validation Loss: {:.3f}, Validation Accuracy: {:.3f}\".format(epoch+1,EPOCHS, valid_loss, valid_acc))\n",
        "    # If the current loss is better than the best loss so far, save the current model instead.\n",
        "    if(temp_best_valid_loss > valid_loss):\n",
        "      temp_best_valid_loss = valid_loss\n",
        "      torch.save(model, 'cifar10_best_model.pt') \n",
        "    # End the timer and print the elapsed time in one epoch\n",
        "    end_time = time.time()\n",
        "    elapsed_mins, elapsed_secs = epoch_time(start_time, end_time)\n",
        "    print(\"Total time: {:.3f} Minutes and {:.3f} Seconds\".format(elapsed_mins, elapsed_secs))"
      ],
      "metadata": {
        "colab": {
          "base_uri": "https://localhost:8080/"
        },
        "id": "Aye_FuA8m2ce",
        "outputId": "e1b1c040-9d0c-44de-ccdc-dc7a5cab6c79"
      },
      "execution_count": 331,
      "outputs": [
        {
          "output_type": "stream",
          "name": "stdout",
          "text": [
            "Epoch 1/40, Training Loss: 1.400, Training Accuracy: 0.488\n",
            "Epoch 1/40, Validation Loss: 1.089, Validation Accuracy: 0.622\n",
            "Total time: 0.000 Minutes and 57.000 Seconds\n",
            "Epoch 2/40, Training Loss: 0.992, Training Accuracy: 0.646\n",
            "Epoch 2/40, Validation Loss: 0.899, Validation Accuracy: 0.686\n",
            "Total time: 0.000 Minutes and 55.000 Seconds\n",
            "Epoch 3/40, Training Loss: 0.831, Training Accuracy: 0.707\n",
            "Epoch 3/40, Validation Loss: 0.803, Validation Accuracy: 0.717\n",
            "Total time: 0.000 Minutes and 55.000 Seconds\n",
            "Epoch 4/40, Training Loss: 0.719, Training Accuracy: 0.749\n",
            "Epoch 4/40, Validation Loss: 0.702, Validation Accuracy: 0.765\n",
            "Total time: 0.000 Minutes and 56.000 Seconds\n",
            "Epoch 5/40, Training Loss: 0.643, Training Accuracy: 0.774\n",
            "Epoch 5/40, Validation Loss: 0.684, Validation Accuracy: 0.769\n",
            "Total time: 0.000 Minutes and 55.000 Seconds\n",
            "Epoch 6/40, Training Loss: 0.591, Training Accuracy: 0.793\n",
            "Epoch 6/40, Validation Loss: 0.651, Validation Accuracy: 0.776\n",
            "Total time: 0.000 Minutes and 55.000 Seconds\n",
            "Epoch 7/40, Training Loss: 0.546, Training Accuracy: 0.809\n",
            "Epoch 7/40, Validation Loss: 0.585, Validation Accuracy: 0.801\n",
            "Total time: 0.000 Minutes and 55.000 Seconds\n",
            "Epoch 8/40, Training Loss: 0.512, Training Accuracy: 0.821\n",
            "Epoch 8/40, Validation Loss: 0.491, Validation Accuracy: 0.830\n",
            "Total time: 0.000 Minutes and 55.000 Seconds\n",
            "Epoch 9/40, Training Loss: 0.476, Training Accuracy: 0.834\n",
            "Epoch 9/40, Validation Loss: 0.462, Validation Accuracy: 0.844\n",
            "Total time: 0.000 Minutes and 55.000 Seconds\n",
            "Epoch 10/40, Training Loss: 0.449, Training Accuracy: 0.843\n",
            "Epoch 10/40, Validation Loss: 0.455, Validation Accuracy: 0.849\n",
            "Total time: 0.000 Minutes and 56.000 Seconds\n",
            "Epoch 11/40, Training Loss: 0.422, Training Accuracy: 0.853\n",
            "Epoch 11/40, Validation Loss: 0.485, Validation Accuracy: 0.841\n",
            "Total time: 0.000 Minutes and 55.000 Seconds\n",
            "Epoch 12/40, Training Loss: 0.400, Training Accuracy: 0.860\n",
            "Epoch 12/40, Validation Loss: 0.405, Validation Accuracy: 0.863\n",
            "Total time: 0.000 Minutes and 55.000 Seconds\n",
            "Epoch 13/40, Training Loss: 0.379, Training Accuracy: 0.867\n",
            "Epoch 13/40, Validation Loss: 0.382, Validation Accuracy: 0.873\n",
            "Total time: 0.000 Minutes and 55.000 Seconds\n",
            "Epoch 14/40, Training Loss: 0.358, Training Accuracy: 0.876\n",
            "Epoch 14/40, Validation Loss: 0.390, Validation Accuracy: 0.872\n",
            "Total time: 0.000 Minutes and 55.000 Seconds\n",
            "Epoch 15/40, Training Loss: 0.344, Training Accuracy: 0.880\n",
            "Epoch 15/40, Validation Loss: 0.379, Validation Accuracy: 0.876\n",
            "Total time: 0.000 Minutes and 54.000 Seconds\n",
            "Epoch 16/40, Training Loss: 0.333, Training Accuracy: 0.883\n",
            "Epoch 16/40, Validation Loss: 0.365, Validation Accuracy: 0.881\n",
            "Total time: 0.000 Minutes and 55.000 Seconds\n",
            "Epoch 17/40, Training Loss: 0.315, Training Accuracy: 0.889\n",
            "Epoch 17/40, Validation Loss: 0.345, Validation Accuracy: 0.889\n",
            "Total time: 0.000 Minutes and 55.000 Seconds\n",
            "Epoch 18/40, Training Loss: 0.302, Training Accuracy: 0.895\n",
            "Epoch 18/40, Validation Loss: 0.336, Validation Accuracy: 0.890\n",
            "Total time: 0.000 Minutes and 55.000 Seconds\n",
            "Epoch 19/40, Training Loss: 0.289, Training Accuracy: 0.898\n",
            "Epoch 19/40, Validation Loss: 0.360, Validation Accuracy: 0.890\n",
            "Total time: 0.000 Minutes and 54.000 Seconds\n",
            "Epoch 20/40, Training Loss: 0.275, Training Accuracy: 0.903\n",
            "Epoch 20/40, Validation Loss: 0.355, Validation Accuracy: 0.888\n",
            "Total time: 0.000 Minutes and 55.000 Seconds\n",
            "Epoch 21/40, Training Loss: 0.266, Training Accuracy: 0.906\n",
            "Epoch 21/40, Validation Loss: 0.344, Validation Accuracy: 0.890\n",
            "Total time: 0.000 Minutes and 55.000 Seconds\n",
            "Epoch 22/40, Training Loss: 0.259, Training Accuracy: 0.908\n",
            "Epoch 22/40, Validation Loss: 0.343, Validation Accuracy: 0.885\n",
            "Total time: 0.000 Minutes and 54.000 Seconds\n",
            "Epoch 23/40, Training Loss: 0.250, Training Accuracy: 0.911\n",
            "Epoch 23/40, Validation Loss: 0.329, Validation Accuracy: 0.893\n",
            "Total time: 0.000 Minutes and 55.000 Seconds\n",
            "Epoch 24/40, Training Loss: 0.238, Training Accuracy: 0.917\n",
            "Epoch 24/40, Validation Loss: 0.319, Validation Accuracy: 0.898\n",
            "Total time: 0.000 Minutes and 54.000 Seconds\n",
            "Epoch 25/40, Training Loss: 0.229, Training Accuracy: 0.919\n",
            "Epoch 25/40, Validation Loss: 0.310, Validation Accuracy: 0.906\n",
            "Total time: 0.000 Minutes and 54.000 Seconds\n",
            "Epoch 26/40, Training Loss: 0.227, Training Accuracy: 0.919\n",
            "Epoch 26/40, Validation Loss: 0.331, Validation Accuracy: 0.898\n",
            "Total time: 0.000 Minutes and 55.000 Seconds\n",
            "Epoch 27/40, Training Loss: 0.217, Training Accuracy: 0.923\n",
            "Epoch 27/40, Validation Loss: 0.299, Validation Accuracy: 0.905\n",
            "Total time: 0.000 Minutes and 55.000 Seconds\n",
            "Epoch 28/40, Training Loss: 0.204, Training Accuracy: 0.927\n",
            "Epoch 28/40, Validation Loss: 0.306, Validation Accuracy: 0.909\n",
            "Total time: 0.000 Minutes and 55.000 Seconds\n",
            "Epoch 29/40, Training Loss: 0.198, Training Accuracy: 0.929\n",
            "Epoch 29/40, Validation Loss: 0.309, Validation Accuracy: 0.904\n",
            "Total time: 0.000 Minutes and 54.000 Seconds\n",
            "Epoch 30/40, Training Loss: 0.190, Training Accuracy: 0.932\n",
            "Epoch 30/40, Validation Loss: 0.323, Validation Accuracy: 0.901\n",
            "Total time: 0.000 Minutes and 54.000 Seconds\n",
            "Epoch 31/40, Training Loss: 0.190, Training Accuracy: 0.932\n",
            "Epoch 31/40, Validation Loss: 0.321, Validation Accuracy: 0.904\n",
            "Total time: 0.000 Minutes and 54.000 Seconds\n",
            "Epoch 32/40, Training Loss: 0.188, Training Accuracy: 0.933\n",
            "Epoch 32/40, Validation Loss: 0.291, Validation Accuracy: 0.913\n",
            "Total time: 0.000 Minutes and 53.000 Seconds\n",
            "Epoch 33/40, Training Loss: 0.175, Training Accuracy: 0.937\n",
            "Epoch 33/40, Validation Loss: 0.309, Validation Accuracy: 0.909\n",
            "Total time: 0.000 Minutes and 54.000 Seconds\n",
            "Epoch 34/40, Training Loss: 0.171, Training Accuracy: 0.939\n",
            "Epoch 34/40, Validation Loss: 0.290, Validation Accuracy: 0.915\n",
            "Total time: 0.000 Minutes and 54.000 Seconds\n",
            "Epoch 35/40, Training Loss: 0.167, Training Accuracy: 0.941\n",
            "Epoch 35/40, Validation Loss: 0.342, Validation Accuracy: 0.900\n",
            "Total time: 0.000 Minutes and 53.000 Seconds\n",
            "Epoch 36/40, Training Loss: 0.163, Training Accuracy: 0.942\n",
            "Epoch 36/40, Validation Loss: 0.303, Validation Accuracy: 0.917\n",
            "Total time: 0.000 Minutes and 54.000 Seconds\n",
            "Epoch 37/40, Training Loss: 0.157, Training Accuracy: 0.944\n",
            "Epoch 37/40, Validation Loss: 0.289, Validation Accuracy: 0.915\n",
            "Total time: 0.000 Minutes and 54.000 Seconds\n",
            "Epoch 38/40, Training Loss: 0.153, Training Accuracy: 0.944\n",
            "Epoch 38/40, Validation Loss: 0.277, Validation Accuracy: 0.919\n",
            "Total time: 0.000 Minutes and 53.000 Seconds\n",
            "Epoch 39/40, Training Loss: 0.146, Training Accuracy: 0.948\n",
            "Epoch 39/40, Validation Loss: 0.277, Validation Accuracy: 0.921\n",
            "Total time: 0.000 Minutes and 54.000 Seconds\n",
            "Epoch 40/40, Training Loss: 0.143, Training Accuracy: 0.948\n",
            "Epoch 40/40, Validation Loss: 0.297, Validation Accuracy: 0.914\n",
            "Total time: 0.000 Minutes and 54.000 Seconds\n"
          ]
        }
      ]
    },
    {
      "cell_type": "code",
      "source": [
        "# Load the best model and evaluate the accuracy on the test dataset.\n",
        "torch.load('cifar10_best_model.pt') \n",
        "test_loss, test_acc = evaluate(model, test_iterator, criterion, device)\n",
        "print(\"Test Loss: {:.3f}, Test Accuracy: {:.3f}\".format(test_loss, test_acc))"
      ],
      "metadata": {
        "id": "J5AiLunem7BL",
        "colab": {
          "base_uri": "https://localhost:8080/"
        },
        "outputId": "afc66664-bbde-4fdf-d0b1-59ff8aff6eb2"
      },
      "execution_count": 332,
      "outputs": [
        {
          "output_type": "stream",
          "name": "stdout",
          "text": [
            "Test Loss: 0.321, Test Accuracy: 0.911\n"
          ]
        }
      ]
    },
    {
      "cell_type": "code",
      "source": [
        "# Plotting the validation loss\n",
        "epoch_no = np.arange(0, EPOCHS)\n",
        "fig=plt.figure()\n",
        "fig.show()\n",
        "ax=fig.add_subplot(111)\n",
        "ax.plot(epoch_no, valid_loss_vals)\n",
        "plt.grid(True)\n",
        "plt.xlabel('Epoch')\n",
        "plt.ylabel('Validation Loss')\n",
        "plt.draw()"
      ],
      "metadata": {
        "id": "hSZj2yqyGAJ3",
        "colab": {
          "base_uri": "https://localhost:8080/",
          "height": 449
        },
        "outputId": "bafe3ff7-c0eb-4a83-e701-2388bac32324"
      },
      "execution_count": 333,
      "outputs": [
        {
          "output_type": "display_data",
          "data": {
            "text/plain": [
              "<Figure size 640x480 with 1 Axes>"
            ],
            "image/png": "[encoded data removed]"
          },
          "metadata": {}
        }
      ]
    },
    {
      "cell_type": "code",
      "source": [
        "# Plotting the validation accuracy\n",
        "fig=plt.figure()\n",
        "fig.show()\n",
        "ax=fig.add_subplot(111)\n",
        "ax.plot(epoch_no, valid_acc_vals)\n",
        "plt.grid(True)\n",
        "plt.xlabel('Epoch')\n",
        "plt.ylabel('Validation Accuracy')\n",
        "plt.draw()"
      ],
      "metadata": {
        "colab": {
          "base_uri": "https://localhost:8080/",
          "height": 449
        },
        "id": "TPntsYDgScUH",
        "outputId": "b1f25e26-c362-4743-f2f8-cf14fff65b66"
      },
      "execution_count": 334,
      "outputs": [
        {
          "output_type": "display_data",
          "data": {
            "text/plain": [
              "<Figure size 640x480 with 1 Axes>"
            ],
            "image/png": "[encoded data removed]"
          },
          "metadata": {}
        }
      ]
    },
    {
      "cell_type": "code",
      "source": [],
      "metadata": {
        "id": "NtAinVcxdjuw"
      },
      "execution_count": null,
      "outputs": []
    }
  ]
}