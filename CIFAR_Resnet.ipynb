{
  "nbformat": 4,
  "nbformat_minor": 0,
  "metadata": {
    "colab": {
      "provenance": []
    },
    "kernelspec": {
      "name": "python3",
      "display_name": "Python 3"
    },
    "language_info": {
      "name": "python"
    },
    "accelerator": "GPU",
    "gpuClass": "standard"
  },
  "cells": [
    {
      "cell_type": "markdown",
      "source": [
        "## Code for Mini Project"
      ],
      "metadata": {
        "id": "ybEk7b0KP6hD"
      }
    },
    {
      "cell_type": "markdown",
      "source": [
        "Ozan Aygun, Amritpal Singh, Ruth Gebremedhin\n",
        "\n",
        "Used Resources:\n",
        "\n",
        "https://github.com/kuangliu/pytorch-cifar (Shared in the assignment)\n",
        "\n",
        "https://blog.paperspace.com/writing-resnet-from-scratch-in-pytorch/ \n",
        "\n",
        "Completed code for HW2-Q4.\n"
      ],
      "metadata": {
        "id": "Ped_709mM_Im"
      }
    },
    {
      "cell_type": "code",
      "execution_count": 1,
      "metadata": {
        "id": "ODgTWnQilYKZ"
      },
      "outputs": [],
      "source": [
        "import torch\n",
        "import torch.nn as nn\n",
        "import torch.nn.functional as F\n",
        "import torch.optim as optim\n",
        "from torch.optim.lr_scheduler import _LRScheduler\n",
        "import torch.utils.data as data\n",
        "\n",
        "import torchvision.transforms as transforms\n",
        "import torchvision.datasets as datasets\n",
        "\n",
        "from sklearn import decomposition\n",
        "from sklearn import manifold\n",
        "from sklearn.metrics import confusion_matrix\n",
        "from sklearn.metrics import ConfusionMatrixDisplay\n",
        "import matplotlib.pyplot as plt\n",
        "import numpy as np\n",
        "\n",
        "import copy\n",
        "import random\n",
        "import time"
      ]
    },
    {
      "cell_type": "code",
      "source": [
        "# Downloading the dataset\n",
        "ROOT = '.data'\n",
        "train_data = datasets.CIFAR10(root = ROOT, \n",
        "                              train = True, \n",
        "                              download = True)"
      ],
      "metadata": {
        "colab": {
          "base_uri": "https://localhost:8080/"
        },
        "id": "eTSH4-EGlgjb",
        "outputId": "243f54e7-800b-4ab1-c542-2e258d3f1d64"
      },
      "execution_count": 2,
      "outputs": [
        {
          "output_type": "stream",
          "name": "stdout",
          "text": [
            "Downloading https://www.cs.toronto.edu/~kriz/cifar-10-python.tar.gz to .data/cifar-10-python.tar.gz\n"
          ]
        },
        {
          "output_type": "stream",
          "name": "stderr",
          "text": [
            "100%|██████████| 170498071/170498071 [00:13<00:00, 13088292.46it/s]\n"
          ]
        },
        {
          "output_type": "stream",
          "name": "stdout",
          "text": [
            "Extracting .data/cifar-10-python.tar.gz to .data\n"
          ]
        }
      ]
    },
    {
      "cell_type": "code",
      "source": [
        "# Compute means and standard deviations along the R,G,B channel\n",
        "\n",
        "means = train_data.data.mean(axis = (0,1,2)) / 255\n",
        "stds = train_data.data.std(axis = (0,1,2)) / 255"
      ],
      "metadata": {
        "id": "OzJJ39m_lvsg"
      },
      "execution_count": 3,
      "outputs": []
    },
    {
      "cell_type": "code",
      "source": [
        "train_transforms = transforms.Compose([\n",
        "                           transforms.RandomRotation(5),\n",
        "                           transforms.RandomHorizontalFlip(0.5),\n",
        "                           transforms.RandomCrop(32, padding = 2),\n",
        "                           transforms.ToTensor(),\n",
        "                           transforms.Normalize(mean = means, \n",
        "                                                std = stds)\n",
        "                       ])\n",
        "\n",
        "test_transforms = transforms.Compose([\n",
        "                           transforms.ToTensor(),\n",
        "                           transforms.Normalize(mean = means, \n",
        "                                                std = stds)\n",
        "                       ])"
      ],
      "metadata": {
        "id": "Y5Fk3HKslzF5"
      },
      "execution_count": 4,
      "outputs": []
    },
    {
      "cell_type": "code",
      "source": [
        "# Construction training and test datasets\n",
        "train_data = datasets.CIFAR10(ROOT, \n",
        "                              train = True, \n",
        "                              download = True, \n",
        "                              transform = train_transforms)\n",
        "\n",
        "test_data = datasets.CIFAR10(ROOT, \n",
        "                             train = False, \n",
        "                             download = True, \n",
        "                             transform = test_transforms)"
      ],
      "metadata": {
        "colab": {
          "base_uri": "https://localhost:8080/"
        },
        "id": "mhC1BmCFl2PW",
        "outputId": "7b51c6d3-3819-4013-89e2-ca1ea75e6b8d"
      },
      "execution_count": 5,
      "outputs": [
        {
          "output_type": "stream",
          "name": "stdout",
          "text": [
            "Files already downloaded and verified\n",
            "Files already downloaded and verified\n"
          ]
        }
      ]
    },
    {
      "cell_type": "code",
      "source": [
        "# Constructing validation dataset\n",
        "VALID_RATIO = 0.9\n",
        "\n",
        "n_train_examples = int(len(train_data) * VALID_RATIO)\n",
        "n_valid_examples = len(train_data) - n_train_examples\n",
        "\n",
        "train_data, valid_data = data.random_split(train_data, \n",
        "                                           [n_train_examples, n_valid_examples])"
      ],
      "metadata": {
        "id": "PBX4-ottl4Ks"
      },
      "execution_count": 6,
      "outputs": []
    },
    {
      "cell_type": "code",
      "source": [
        "valid_data = copy.deepcopy(valid_data)\n",
        "valid_data.dataset.transform = test_transforms"
      ],
      "metadata": {
        "id": "736HN_u3l6a_"
      },
      "execution_count": 7,
      "outputs": []
    },
    {
      "cell_type": "code",
      "source": [
        "BATCH_SIZE = 128\n",
        "# Dataloaders\n",
        "train_iterator = torch.utils.data.DataLoader(train_data,batch_size= BATCH_SIZE,shuffle=True)\n",
        "\n",
        "valid_iterator = torch.utils.data.DataLoader(valid_data,batch_size= BATCH_SIZE,shuffle=False)\n",
        "\n",
        "test_iterator = torch.utils.data.DataLoader(test_data,batch_size= BATCH_SIZE,shuffle=False)"
      ],
      "metadata": {
        "id": "_CZcfkbwl9-3"
      },
      "execution_count": 8,
      "outputs": []
    },
    {
      "cell_type": "code",
      "source": [
        "# Small convolutional blocks\n",
        "\"\"\"\n",
        "class BasicBlock(nn.Module):\n",
        "    expansion = 1\n",
        "\n",
        "    def __init__(self, in_planes, planes, stride=1):\n",
        "        super(BasicBlock, self).__init__()\n",
        "        self.conv1 = nn.Conv2d(\n",
        "            in_planes, planes, kernel_size=3, stride=stride, padding=1, bias=False)\n",
        "        self.bn1 = nn.BatchNorm2d(planes)\n",
        "        self.conv2 = nn.Conv2d(planes, planes, kernel_size=3,\n",
        "                               stride=1, padding=1, bias=False)\n",
        "        self.bn2 = nn.BatchNorm2d(planes)\n",
        "\n",
        "        self.shortcut = nn.Sequential()\n",
        "        if stride != 1 or in_planes != self.expansion*planes:\n",
        "            self.shortcut = nn.Sequential(\n",
        "                nn.Conv2d(in_planes, self.expansion*planes,\n",
        "                          kernel_size=1, stride=stride, bias=False),\n",
        "                nn.BatchNorm2d(self.expansion*planes)\n",
        "            )\n",
        "\n",
        "    def forward(self, x):\n",
        "        out = F.relu(self.bn1(self.conv1(x)))\n",
        "        out = self.bn2(self.conv2(out))\n",
        "        out += self.shortcut(x)\n",
        "        out = F.relu(out)\n",
        "        return out\n",
        "\"\"\"\n",
        "\n",
        "# Construction of residual block using the basic block. \n",
        "\n",
        "class Bottleneck(nn.Module):\n",
        "    expansion = 4\n",
        "\n",
        "    def __init__(self, in_planes, planes, stride=1):\n",
        "        super(Bottleneck, self).__init__()\n",
        "        self.conv1 = nn.Conv2d(in_planes, planes, kernel_size=1, bias=False)\n",
        "        self.bn1 = nn.BatchNorm2d(planes)\n",
        "        self.conv2 = nn.Conv2d(planes, planes, kernel_size=3,\n",
        "                               stride=stride, padding=1, bias=False)\n",
        "        self.bn2 = nn.BatchNorm2d(planes)\n",
        "        self.conv3 = nn.Conv2d(planes, self.expansion *\n",
        "                               planes, kernel_size=1, bias=False)\n",
        "        self.bn3 = nn.BatchNorm2d(self.expansion*planes)\n",
        "\n",
        "        self.shortcut = nn.Sequential()\n",
        "        if stride != 1 or in_planes != self.expansion*planes:\n",
        "            self.shortcut = nn.Sequential(\n",
        "                nn.Conv2d(in_planes, self.expansion*planes,\n",
        "                          kernel_size=1, stride=stride, bias=False),\n",
        "                nn.BatchNorm2d(self.expansion*planes)\n",
        "            )\n",
        "\n",
        "    def forward(self, x):\n",
        "        out = F.relu(self.bn1(self.conv1(x)))\n",
        "        out = F.relu(self.bn2(self.conv2(out)))\n",
        "        out = self.bn3(self.conv3(out))\n",
        "        out += self.shortcut(x)\n",
        "        out = F.relu(out)\n",
        "        return out"
      ],
      "metadata": {
        "id": "aRQg6tWAmMGy"
      },
      "execution_count": 9,
      "outputs": []
    },
    {
      "cell_type": "code",
      "source": [
        "# Construction of custom resnet network using the small blocks defined above.\n",
        "\n",
        "class ResNet(nn.Module):\n",
        "    def __init__(self, block, num_blocks, num_classes=10):\n",
        "        super(ResNet, self).__init__()\n",
        "        self.in_planes = 64\n",
        "\n",
        "        self.conv1 = nn.Conv2d(3, 64, kernel_size=3,\n",
        "                               stride=1, padding=1, bias=False)\n",
        "        self.bn1 = nn.BatchNorm2d(64)\n",
        "        self.layer1 = self._make_layer(block, 64, num_blocks[0], stride=1)\n",
        "        self.layer2 = self._make_layer(block, 128, num_blocks[1], stride=2)\n",
        "        self.layer3 = self._make_layer(block, 256, num_blocks[2], stride=2)\n",
        "        #self.layer4 = self._make_layer(block, 512, num_blocks[3], stride=2)\n",
        "        self.linear = nn.Linear(4096, num_classes)\n",
        "\n",
        "    def _make_layer(self, block, planes, num_blocks, stride):\n",
        "        strides = [stride] + [1]*(num_blocks-1)\n",
        "        layers = []\n",
        "        for stride in strides:\n",
        "            layers.append(block(self.in_planes, planes, stride))\n",
        "            self.in_planes = planes * block.expansion\n",
        "        return nn.Sequential(*layers)\n",
        "\n",
        "    def forward(self, x):\n",
        "        out = F.relu(self.bn1(self.conv1(x)))\n",
        "        out = self.layer1(out)\n",
        "        out = self.layer2(out)\n",
        "        out = self.layer3(out)\n",
        "        #out = self.layer4(out)\n",
        "        out = F.avg_pool2d(out, 4)\n",
        "        out = out.view(out.size(0), -1)\n",
        "        out = self.linear(out)\n",
        "        return out"
      ],
      "metadata": {
        "id": "YU-llfPomPvI"
      },
      "execution_count": 10,
      "outputs": []
    },
    {
      "cell_type": "code",
      "source": [
        "# Parameter initialization using Kaiming normal.\n",
        "\n",
        "def initialize_parameters(m):\n",
        "    if isinstance(m, nn.Conv2d):\n",
        "        nn.init.kaiming_normal_(m.weight.data, nonlinearity = 'relu')\n",
        "        nn.init.constant_(m.bias.data, 0)\n",
        "    elif isinstance(m, nn.Linear):\n",
        "        nn.init.xavier_normal_(m.weight.data, gain = nn.init.calculate_gain('relu'))\n",
        "        nn.init.constant_(m.bias.data, 0)"
      ],
      "metadata": {
        "id": "Hoova69BmiqA"
      },
      "execution_count": 11,
      "outputs": []
    },
    {
      "cell_type": "code",
      "source": [
        "num_classes = 10\n",
        "learning_rate = 1e-3\n",
        "\n",
        "device = torch.device('cuda' if torch.cuda.is_available() else 'cpu')\n",
        "\n",
        "model = ResNet(Bottleneck, [3, 3, 3]).to(device)\n",
        "initialize_parameters(model)\n",
        "\n",
        "# Loss and optimizer\n",
        "\n",
        "optimizer = optim.Adam(model.parameters(), lr = learning_rate)\n",
        "criterion = nn.CrossEntropyLoss()\n",
        "\n",
        "model = model.to(device)\n",
        "criterion = criterion.to(device)\n"
      ],
      "metadata": {
        "id": "u_mlALgNmVfD"
      },
      "execution_count": 12,
      "outputs": []
    },
    {
      "cell_type": "markdown",
      "source": [
        "Number of parameters:"
      ],
      "metadata": {
        "id": "L-Sh9HG-Re3-"
      }
    },
    {
      "cell_type": "code",
      "source": [
        "print(sum(p.numel() for p in model.parameters() if p.requires_grad))"
      ],
      "metadata": {
        "colab": {
          "base_uri": "https://localhost:8080/"
        },
        "id": "MXY2yKHXn8j-",
        "outputId": "8c4c0f19-5782-4d2a-a724-818b09f3b0fa"
      },
      "execution_count": 13,
      "outputs": [
        {
          "output_type": "stream",
          "name": "stdout",
          "text": [
            "4944970\n"
          ]
        }
      ]
    },
    {
      "cell_type": "code",
      "source": [
        "model"
      ],
      "metadata": {
        "colab": {
          "base_uri": "https://localhost:8080/"
        },
        "id": "AEwKrz7_s7-6",
        "outputId": "bd219b31-08e7-433a-f1f2-63a332367a75"
      },
      "execution_count": 14,
      "outputs": [
        {
          "output_type": "execute_result",
          "data": {
            "text/plain": [
              "ResNet(\n",
              "  (conv1): Conv2d(3, 64, kernel_size=(3, 3), stride=(1, 1), padding=(1, 1), bias=False)\n",
              "  (bn1): BatchNorm2d(64, eps=1e-05, momentum=0.1, affine=True, track_running_stats=True)\n",
              "  (layer1): Sequential(\n",
              "    (0): Bottleneck(\n",
              "      (conv1): Conv2d(64, 64, kernel_size=(1, 1), stride=(1, 1), bias=False)\n",
              "      (bn1): BatchNorm2d(64, eps=1e-05, momentum=0.1, affine=True, track_running_stats=True)\n",
              "      (conv2): Conv2d(64, 64, kernel_size=(3, 3), stride=(1, 1), padding=(1, 1), bias=False)\n",
              "      (bn2): BatchNorm2d(64, eps=1e-05, momentum=0.1, affine=True, track_running_stats=True)\n",
              "      (conv3): Conv2d(64, 256, kernel_size=(1, 1), stride=(1, 1), bias=False)\n",
              "      (bn3): BatchNorm2d(256, eps=1e-05, momentum=0.1, affine=True, track_running_stats=True)\n",
              "      (shortcut): Sequential(\n",
              "        (0): Conv2d(64, 256, kernel_size=(1, 1), stride=(1, 1), bias=False)\n",
              "        (1): BatchNorm2d(256, eps=1e-05, momentum=0.1, affine=True, track_running_stats=True)\n",
              "      )\n",
              "    )\n",
              "    (1): Bottleneck(\n",
              "      (conv1): Conv2d(256, 64, kernel_size=(1, 1), stride=(1, 1), bias=False)\n",
              "      (bn1): BatchNorm2d(64, eps=1e-05, momentum=0.1, affine=True, track_running_stats=True)\n",
              "      (conv2): Conv2d(64, 64, kernel_size=(3, 3), stride=(1, 1), padding=(1, 1), bias=False)\n",
              "      (bn2): BatchNorm2d(64, eps=1e-05, momentum=0.1, affine=True, track_running_stats=True)\n",
              "      (conv3): Conv2d(64, 256, kernel_size=(1, 1), stride=(1, 1), bias=False)\n",
              "      (bn3): BatchNorm2d(256, eps=1e-05, momentum=0.1, affine=True, track_running_stats=True)\n",
              "      (shortcut): Sequential()\n",
              "    )\n",
              "    (2): Bottleneck(\n",
              "      (conv1): Conv2d(256, 64, kernel_size=(1, 1), stride=(1, 1), bias=False)\n",
              "      (bn1): BatchNorm2d(64, eps=1e-05, momentum=0.1, affine=True, track_running_stats=True)\n",
              "      (conv2): Conv2d(64, 64, kernel_size=(3, 3), stride=(1, 1), padding=(1, 1), bias=False)\n",
              "      (bn2): BatchNorm2d(64, eps=1e-05, momentum=0.1, affine=True, track_running_stats=True)\n",
              "      (conv3): Conv2d(64, 256, kernel_size=(1, 1), stride=(1, 1), bias=False)\n",
              "      (bn3): BatchNorm2d(256, eps=1e-05, momentum=0.1, affine=True, track_running_stats=True)\n",
              "      (shortcut): Sequential()\n",
              "    )\n",
              "  )\n",
              "  (layer2): Sequential(\n",
              "    (0): Bottleneck(\n",
              "      (conv1): Conv2d(256, 128, kernel_size=(1, 1), stride=(1, 1), bias=False)\n",
              "      (bn1): BatchNorm2d(128, eps=1e-05, momentum=0.1, affine=True, track_running_stats=True)\n",
              "      (conv2): Conv2d(128, 128, kernel_size=(3, 3), stride=(2, 2), padding=(1, 1), bias=False)\n",
              "      (bn2): BatchNorm2d(128, eps=1e-05, momentum=0.1, affine=True, track_running_stats=True)\n",
              "      (conv3): Conv2d(128, 512, kernel_size=(1, 1), stride=(1, 1), bias=False)\n",
              "      (bn3): BatchNorm2d(512, eps=1e-05, momentum=0.1, affine=True, track_running_stats=True)\n",
              "      (shortcut): Sequential(\n",
              "        (0): Conv2d(256, 512, kernel_size=(1, 1), stride=(2, 2), bias=False)\n",
              "        (1): BatchNorm2d(512, eps=1e-05, momentum=0.1, affine=True, track_running_stats=True)\n",
              "      )\n",
              "    )\n",
              "    (1): Bottleneck(\n",
              "      (conv1): Conv2d(512, 128, kernel_size=(1, 1), stride=(1, 1), bias=False)\n",
              "      (bn1): BatchNorm2d(128, eps=1e-05, momentum=0.1, affine=True, track_running_stats=True)\n",
              "      (conv2): Conv2d(128, 128, kernel_size=(3, 3), stride=(1, 1), padding=(1, 1), bias=False)\n",
              "      (bn2): BatchNorm2d(128, eps=1e-05, momentum=0.1, affine=True, track_running_stats=True)\n",
              "      (conv3): Conv2d(128, 512, kernel_size=(1, 1), stride=(1, 1), bias=False)\n",
              "      (bn3): BatchNorm2d(512, eps=1e-05, momentum=0.1, affine=True, track_running_stats=True)\n",
              "      (shortcut): Sequential()\n",
              "    )\n",
              "    (2): Bottleneck(\n",
              "      (conv1): Conv2d(512, 128, kernel_size=(1, 1), stride=(1, 1), bias=False)\n",
              "      (bn1): BatchNorm2d(128, eps=1e-05, momentum=0.1, affine=True, track_running_stats=True)\n",
              "      (conv2): Conv2d(128, 128, kernel_size=(3, 3), stride=(1, 1), padding=(1, 1), bias=False)\n",
              "      (bn2): BatchNorm2d(128, eps=1e-05, momentum=0.1, affine=True, track_running_stats=True)\n",
              "      (conv3): Conv2d(128, 512, kernel_size=(1, 1), stride=(1, 1), bias=False)\n",
              "      (bn3): BatchNorm2d(512, eps=1e-05, momentum=0.1, affine=True, track_running_stats=True)\n",
              "      (shortcut): Sequential()\n",
              "    )\n",
              "  )\n",
              "  (layer3): Sequential(\n",
              "    (0): Bottleneck(\n",
              "      (conv1): Conv2d(512, 256, kernel_size=(1, 1), stride=(1, 1), bias=False)\n",
              "      (bn1): BatchNorm2d(256, eps=1e-05, momentum=0.1, affine=True, track_running_stats=True)\n",
              "      (conv2): Conv2d(256, 256, kernel_size=(3, 3), stride=(2, 2), padding=(1, 1), bias=False)\n",
              "      (bn2): BatchNorm2d(256, eps=1e-05, momentum=0.1, affine=True, track_running_stats=True)\n",
              "      (conv3): Conv2d(256, 1024, kernel_size=(1, 1), stride=(1, 1), bias=False)\n",
              "      (bn3): BatchNorm2d(1024, eps=1e-05, momentum=0.1, affine=True, track_running_stats=True)\n",
              "      (shortcut): Sequential(\n",
              "        (0): Conv2d(512, 1024, kernel_size=(1, 1), stride=(2, 2), bias=False)\n",
              "        (1): BatchNorm2d(1024, eps=1e-05, momentum=0.1, affine=True, track_running_stats=True)\n",
              "      )\n",
              "    )\n",
              "    (1): Bottleneck(\n",
              "      (conv1): Conv2d(1024, 256, kernel_size=(1, 1), stride=(1, 1), bias=False)\n",
              "      (bn1): BatchNorm2d(256, eps=1e-05, momentum=0.1, affine=True, track_running_stats=True)\n",
              "      (conv2): Conv2d(256, 256, kernel_size=(3, 3), stride=(1, 1), padding=(1, 1), bias=False)\n",
              "      (bn2): BatchNorm2d(256, eps=1e-05, momentum=0.1, affine=True, track_running_stats=True)\n",
              "      (conv3): Conv2d(256, 1024, kernel_size=(1, 1), stride=(1, 1), bias=False)\n",
              "      (bn3): BatchNorm2d(1024, eps=1e-05, momentum=0.1, affine=True, track_running_stats=True)\n",
              "      (shortcut): Sequential()\n",
              "    )\n",
              "    (2): Bottleneck(\n",
              "      (conv1): Conv2d(1024, 256, kernel_size=(1, 1), stride=(1, 1), bias=False)\n",
              "      (bn1): BatchNorm2d(256, eps=1e-05, momentum=0.1, affine=True, track_running_stats=True)\n",
              "      (conv2): Conv2d(256, 256, kernel_size=(3, 3), stride=(1, 1), padding=(1, 1), bias=False)\n",
              "      (bn2): BatchNorm2d(256, eps=1e-05, momentum=0.1, affine=True, track_running_stats=True)\n",
              "      (conv3): Conv2d(256, 1024, kernel_size=(1, 1), stride=(1, 1), bias=False)\n",
              "      (bn3): BatchNorm2d(1024, eps=1e-05, momentum=0.1, affine=True, track_running_stats=True)\n",
              "      (shortcut): Sequential()\n",
              "    )\n",
              "  )\n",
              "  (linear): Linear(in_features=4096, out_features=10, bias=True)\n",
              ")"
            ]
          },
          "metadata": {},
          "execution_count": 14
        }
      ]
    },
    {
      "cell_type": "code",
      "source": [
        "# Function that calculates the accuracy\n",
        "def calculate_accuracy(y_pred, y):\n",
        "    top_pred = y_pred.argmax(1, keepdim = True)\n",
        "    correct = top_pred.eq(y.view_as(top_pred)).sum()\n",
        "    acc = correct.float() / y.shape[0]\n",
        "    return acc"
      ],
      "metadata": {
        "id": "cllip0tDmdz3"
      },
      "execution_count": 15,
      "outputs": []
    },
    {
      "cell_type": "code",
      "source": [
        "# Training function used in previous homework\n",
        "def train(model, iterator, optimizer, criterion, device):\n",
        "    \n",
        "    epoch_loss = 0\n",
        "    epoch_acc = 0\n",
        "    \n",
        "    model.train()\n",
        "    \n",
        "    for (x, y) in iterator:\n",
        "        \n",
        "        x = x.to(device)\n",
        "        y = y.to(device)\n",
        "        \n",
        "        optimizer.zero_grad()\n",
        "                \n",
        "        y_pred = model(x)\n",
        "        \n",
        "        loss = criterion(y_pred, y)\n",
        "        \n",
        "        acc = calculate_accuracy(y_pred, y)\n",
        "        \n",
        "        loss.backward()\n",
        "        \n",
        "        optimizer.step()\n",
        "        \n",
        "        epoch_loss += loss.item()\n",
        "        epoch_acc += acc.item()\n",
        "        \n",
        "    return epoch_loss / len(iterator), epoch_acc / len(iterator)"
      ],
      "metadata": {
        "id": "6Qk961FcmudC"
      },
      "execution_count": 16,
      "outputs": []
    },
    {
      "cell_type": "code",
      "source": [
        "# Evaluate function taken from the previous homework.\n",
        "def evaluate(model, iterator, criterion, device):\n",
        "    \n",
        "    epoch_loss = 0\n",
        "    epoch_acc = 0\n",
        "    \n",
        "    model.eval()\n",
        "    \n",
        "    with torch.no_grad():\n",
        "        \n",
        "        for (x, y) in iterator:\n",
        "\n",
        "            x = x.to(device)\n",
        "            y = y.to(device)\n",
        "\n",
        "            y_pred = model(x)\n",
        "\n",
        "            loss = criterion(y_pred, y)\n",
        "\n",
        "            acc = calculate_accuracy(y_pred, y)\n",
        "\n",
        "            epoch_loss += loss.item()\n",
        "            epoch_acc += acc.item()\n",
        "        \n",
        "    return epoch_loss / len(iterator), epoch_acc / len(iterator)"
      ],
      "metadata": {
        "id": "uTAiU5wKmya4"
      },
      "execution_count": 17,
      "outputs": []
    },
    {
      "cell_type": "code",
      "source": [
        "def epoch_time(start_time, end_time):\n",
        "    elapsed_time = end_time - start_time\n",
        "    elapsed_mins = int(elapsed_time / 60)\n",
        "    elapsed_secs = int(elapsed_time - (elapsed_mins * 60))\n",
        "    return elapsed_mins, elapsed_secs"
      ],
      "metadata": {
        "id": "OYLyzy8Nm1_w"
      },
      "execution_count": 18,
      "outputs": []
    },
    {
      "cell_type": "code",
      "source": [
        "EPOCHS = 40\n",
        "\n",
        "valid_loss_vals = []\n",
        "valid_acc_vals = []\n",
        "\n",
        "temp_best_valid_loss = np.inf\n",
        "\n",
        "for epoch in range(EPOCHS):\n",
        "    # Time value has been stored for elapsed time\n",
        "    start_time = time.time()\n",
        "    # Training and performance outputs\n",
        "    train_loss, train_acc = train(model, train_iterator, optimizer, criterion, device)\n",
        "    print(\"Epoch {}/{}, Training Loss: {:.3f}, Training Accuracy: {:.3f}\".format(epoch+1,EPOCHS, train_loss, train_acc))\n",
        "    # Evaluating with validation dataset\n",
        "    valid_loss , valid_acc = evaluate(model, valid_iterator, criterion, device)\n",
        "    # Keeping track of loss and accuracy values\n",
        "    valid_loss_vals.append(valid_loss)\n",
        "    valid_acc_vals.append(valid_acc)\n",
        "    # Performance outputs\n",
        "    print(\"Epoch {}/{}, Validation Loss: {:.3f}, Validation Accuracy: {:.3f}\".format(epoch+1,EPOCHS, valid_loss, valid_acc))\n",
        "    # If the current loss is better than the best loss so far, save the current model instead.\n",
        "    if(temp_best_valid_loss > valid_loss):\n",
        "      temp_best_valid_loss = valid_loss\n",
        "      torch.save(model, 'cifar10_best_model.pt') \n",
        "    # End the timer and print the elapsed time in one epoch\n",
        "    end_time = time.time()\n",
        "    elapsed_mins, elapsed_secs = epoch_time(start_time, end_time)\n",
        "    print(\"Total time: {:.3f} Minutes and {:.3f} Seconds\".format(elapsed_mins, elapsed_secs))"
      ],
      "metadata": {
        "colab": {
          "base_uri": "https://localhost:8080/"
        },
        "id": "Aye_FuA8m2ce",
        "outputId": "f03edd07-0721-4100-8207-1200e56468ce"
      },
      "execution_count": 19,
      "outputs": [
        {
          "output_type": "stream",
          "name": "stdout",
          "text": [
            "Epoch 1/40, Training Loss: 1.601, Training Accuracy: 0.433\n",
            "Epoch 1/40, Validation Loss: 1.279, Validation Accuracy: 0.540\n",
            "Total time: 2.000 Minutes and 4.000 Seconds\n",
            "Epoch 2/40, Training Loss: 1.082, Training Accuracy: 0.616\n",
            "Epoch 2/40, Validation Loss: 0.890, Validation Accuracy: 0.679\n",
            "Total time: 1.000 Minutes and 56.000 Seconds\n",
            "Epoch 3/40, Training Loss: 0.868, Training Accuracy: 0.694\n",
            "Epoch 3/40, Validation Loss: 0.919, Validation Accuracy: 0.693\n",
            "Total time: 1.000 Minutes and 57.000 Seconds\n",
            "Epoch 4/40, Training Loss: 0.728, Training Accuracy: 0.744\n",
            "Epoch 4/40, Validation Loss: 0.753, Validation Accuracy: 0.750\n",
            "Total time: 1.000 Minutes and 55.000 Seconds\n",
            "Epoch 5/40, Training Loss: 0.645, Training Accuracy: 0.775\n",
            "Epoch 5/40, Validation Loss: 0.609, Validation Accuracy: 0.783\n",
            "Total time: 1.000 Minutes and 55.000 Seconds\n",
            "Epoch 6/40, Training Loss: 0.577, Training Accuracy: 0.800\n",
            "Epoch 6/40, Validation Loss: 0.529, Validation Accuracy: 0.819\n",
            "Total time: 1.000 Minutes and 54.000 Seconds\n",
            "Epoch 7/40, Training Loss: 0.519, Training Accuracy: 0.819\n",
            "Epoch 7/40, Validation Loss: 0.508, Validation Accuracy: 0.825\n",
            "Total time: 1.000 Minutes and 55.000 Seconds\n",
            "Epoch 8/40, Training Loss: 0.485, Training Accuracy: 0.832\n",
            "Epoch 8/40, Validation Loss: 0.484, Validation Accuracy: 0.838\n",
            "Total time: 1.000 Minutes and 54.000 Seconds\n",
            "Epoch 9/40, Training Loss: 0.450, Training Accuracy: 0.843\n",
            "Epoch 9/40, Validation Loss: 0.518, Validation Accuracy: 0.825\n",
            "Total time: 1.000 Minutes and 54.000 Seconds\n",
            "Epoch 10/40, Training Loss: 0.417, Training Accuracy: 0.853\n",
            "Epoch 10/40, Validation Loss: 0.420, Validation Accuracy: 0.860\n",
            "Total time: 1.000 Minutes and 54.000 Seconds\n",
            "Epoch 11/40, Training Loss: 0.385, Training Accuracy: 0.867\n",
            "Epoch 11/40, Validation Loss: 0.434, Validation Accuracy: 0.853\n",
            "Total time: 1.000 Minutes and 54.000 Seconds\n",
            "Epoch 12/40, Training Loss: 0.365, Training Accuracy: 0.873\n",
            "Epoch 12/40, Validation Loss: 0.399, Validation Accuracy: 0.861\n",
            "Total time: 1.000 Minutes and 54.000 Seconds\n",
            "Epoch 13/40, Training Loss: 0.347, Training Accuracy: 0.879\n",
            "Epoch 13/40, Validation Loss: 0.418, Validation Accuracy: 0.861\n",
            "Total time: 1.000 Minutes and 54.000 Seconds\n",
            "Epoch 14/40, Training Loss: 0.328, Training Accuracy: 0.884\n",
            "Epoch 14/40, Validation Loss: 0.381, Validation Accuracy: 0.866\n",
            "Total time: 1.000 Minutes and 54.000 Seconds\n",
            "Epoch 15/40, Training Loss: 0.309, Training Accuracy: 0.892\n",
            "Epoch 15/40, Validation Loss: 0.360, Validation Accuracy: 0.872\n",
            "Total time: 1.000 Minutes and 54.000 Seconds\n",
            "Epoch 16/40, Training Loss: 0.298, Training Accuracy: 0.898\n",
            "Epoch 16/40, Validation Loss: 0.336, Validation Accuracy: 0.884\n",
            "Total time: 1.000 Minutes and 54.000 Seconds\n",
            "Epoch 17/40, Training Loss: 0.280, Training Accuracy: 0.902\n",
            "Epoch 17/40, Validation Loss: 0.365, Validation Accuracy: 0.867\n",
            "Total time: 1.000 Minutes and 54.000 Seconds\n",
            "Epoch 18/40, Training Loss: 0.265, Training Accuracy: 0.908\n",
            "Epoch 18/40, Validation Loss: 0.405, Validation Accuracy: 0.868\n",
            "Total time: 1.000 Minutes and 54.000 Seconds\n",
            "Epoch 19/40, Training Loss: 0.252, Training Accuracy: 0.910\n",
            "Epoch 19/40, Validation Loss: 0.362, Validation Accuracy: 0.886\n",
            "Total time: 1.000 Minutes and 54.000 Seconds\n",
            "Epoch 20/40, Training Loss: 0.239, Training Accuracy: 0.917\n",
            "Epoch 20/40, Validation Loss: 0.355, Validation Accuracy: 0.881\n",
            "Total time: 1.000 Minutes and 54.000 Seconds\n",
            "Epoch 21/40, Training Loss: 0.228, Training Accuracy: 0.919\n",
            "Epoch 21/40, Validation Loss: 0.336, Validation Accuracy: 0.892\n",
            "Total time: 1.000 Minutes and 54.000 Seconds\n",
            "Epoch 22/40, Training Loss: 0.214, Training Accuracy: 0.924\n",
            "Epoch 22/40, Validation Loss: 0.308, Validation Accuracy: 0.897\n",
            "Total time: 1.000 Minutes and 54.000 Seconds\n",
            "Epoch 23/40, Training Loss: 0.207, Training Accuracy: 0.927\n",
            "Epoch 23/40, Validation Loss: 0.333, Validation Accuracy: 0.896\n",
            "Total time: 1.000 Minutes and 54.000 Seconds\n",
            "Epoch 24/40, Training Loss: 0.196, Training Accuracy: 0.930\n",
            "Epoch 24/40, Validation Loss: 0.397, Validation Accuracy: 0.874\n",
            "Total time: 1.000 Minutes and 54.000 Seconds\n",
            "Epoch 25/40, Training Loss: 0.182, Training Accuracy: 0.936\n",
            "Epoch 25/40, Validation Loss: 0.326, Validation Accuracy: 0.902\n",
            "Total time: 1.000 Minutes and 54.000 Seconds\n",
            "Epoch 26/40, Training Loss: 0.180, Training Accuracy: 0.936\n",
            "Epoch 26/40, Validation Loss: 0.298, Validation Accuracy: 0.908\n",
            "Total time: 1.000 Minutes and 54.000 Seconds\n",
            "Epoch 27/40, Training Loss: 0.162, Training Accuracy: 0.942\n",
            "Epoch 27/40, Validation Loss: 0.298, Validation Accuracy: 0.905\n",
            "Total time: 1.000 Minutes and 54.000 Seconds\n",
            "Epoch 28/40, Training Loss: 0.161, Training Accuracy: 0.943\n",
            "Epoch 28/40, Validation Loss: 0.339, Validation Accuracy: 0.896\n",
            "Total time: 1.000 Minutes and 54.000 Seconds\n",
            "Epoch 29/40, Training Loss: 0.154, Training Accuracy: 0.945\n",
            "Epoch 29/40, Validation Loss: 0.294, Validation Accuracy: 0.911\n",
            "Total time: 1.000 Minutes and 54.000 Seconds\n",
            "Epoch 30/40, Training Loss: 0.144, Training Accuracy: 0.949\n",
            "Epoch 30/40, Validation Loss: 0.334, Validation Accuracy: 0.905\n",
            "Total time: 1.000 Minutes and 54.000 Seconds\n",
            "Epoch 31/40, Training Loss: 0.136, Training Accuracy: 0.951\n",
            "Epoch 31/40, Validation Loss: 0.305, Validation Accuracy: 0.909\n",
            "Total time: 1.000 Minutes and 54.000 Seconds\n",
            "Epoch 32/40, Training Loss: 0.131, Training Accuracy: 0.954\n",
            "Epoch 32/40, Validation Loss: 0.346, Validation Accuracy: 0.902\n",
            "Total time: 1.000 Minutes and 54.000 Seconds\n",
            "Epoch 33/40, Training Loss: 0.132, Training Accuracy: 0.954\n",
            "Epoch 33/40, Validation Loss: 0.308, Validation Accuracy: 0.903\n",
            "Total time: 1.000 Minutes and 54.000 Seconds\n",
            "Epoch 34/40, Training Loss: 0.118, Training Accuracy: 0.958\n",
            "Epoch 34/40, Validation Loss: 0.337, Validation Accuracy: 0.905\n",
            "Total time: 1.000 Minutes and 54.000 Seconds\n",
            "Epoch 35/40, Training Loss: 0.119, Training Accuracy: 0.959\n",
            "Epoch 35/40, Validation Loss: 0.325, Validation Accuracy: 0.904\n",
            "Total time: 1.000 Minutes and 54.000 Seconds\n",
            "Epoch 36/40, Training Loss: 0.109, Training Accuracy: 0.962\n",
            "Epoch 36/40, Validation Loss: 0.316, Validation Accuracy: 0.914\n",
            "Total time: 1.000 Minutes and 55.000 Seconds\n",
            "Epoch 37/40, Training Loss: 0.111, Training Accuracy: 0.959\n",
            "Epoch 37/40, Validation Loss: 0.340, Validation Accuracy: 0.908\n",
            "Total time: 1.000 Minutes and 55.000 Seconds\n",
            "Epoch 38/40, Training Loss: 0.103, Training Accuracy: 0.965\n",
            "Epoch 38/40, Validation Loss: 0.317, Validation Accuracy: 0.913\n",
            "Total time: 1.000 Minutes and 55.000 Seconds\n",
            "Epoch 39/40, Training Loss: 0.097, Training Accuracy: 0.966\n",
            "Epoch 39/40, Validation Loss: 0.293, Validation Accuracy: 0.916\n",
            "Total time: 1.000 Minutes and 55.000 Seconds\n",
            "Epoch 40/40, Training Loss: 0.093, Training Accuracy: 0.967\n",
            "Epoch 40/40, Validation Loss: 0.314, Validation Accuracy: 0.914\n",
            "Total time: 1.000 Minutes and 55.000 Seconds\n"
          ]
        }
      ]
    },
    {
      "cell_type": "code",
      "source": [
        "# Load the best model and evaluate the accuracy on the test dataset.\n",
        "torch.load('cifar10_best_model.pt') \n",
        "test_loss, test_acc = evaluate(model, test_iterator, criterion, device)\n",
        "print(\"Test Loss: {:.3f}, Test Accuracy: {:.3f}\".format(test_loss, test_acc))"
      ],
      "metadata": {
        "id": "J5AiLunem7BL",
        "colab": {
          "base_uri": "https://localhost:8080/"
        },
        "outputId": "a1446338-a1d5-4c0e-ef1b-de0a2055dca4"
      },
      "execution_count": 20,
      "outputs": [
        {
          "output_type": "stream",
          "name": "stdout",
          "text": [
            "Test Loss: 0.377, Test Accuracy: 0.900\n"
          ]
        }
      ]
    },
    {
      "cell_type": "code",
      "source": [
        "# Plotting the validation loss\n",
        "epoch_no = np.arange(0, EPOCHS)\n",
        "fig=plt.figure()\n",
        "fig.show()\n",
        "ax=fig.add_subplot(111)\n",
        "ax.plot(epoch_no, valid_loss_vals)\n",
        "plt.grid(True)\n",
        "plt.xlabel('Epoch')\n",
        "plt.ylabel('Validation Loss')\n",
        "plt.draw()"
      ],
      "metadata": {
        "id": "hSZj2yqyGAJ3",
        "colab": {
          "base_uri": "https://localhost:8080/",
          "height": 449
        },
        "outputId": "c4b3fad9-fa61-49a2-89b0-2321b5cc6bb1"
      },
      "execution_count": 21,
      "outputs": [
        {
          "output_type": "display_data",
          "data": {
            "text/plain": [
              "<Figure size 640x480 with 1 Axes>"
            ],
            "image/png": "[encoded data removed]"
          },
          "metadata": {}
        }
      ]
    },
    {
      "cell_type": "code",
      "source": [
        "# Plotting the validation accuracy\n",
        "fig=plt.figure()\n",
        "fig.show()\n",
        "ax=fig.add_subplot(111)\n",
        "ax.plot(epoch_no, valid_acc_vals)\n",
        "plt.grid(True)\n",
        "plt.xlabel('Epoch')\n",
        "plt.ylabel('Validation Accuracy')\n",
        "plt.draw()"
      ],
      "metadata": {
        "colab": {
          "base_uri": "https://localhost:8080/",
          "height": 449
        },
        "id": "TPntsYDgScUH",
        "outputId": "e989e7c8-85d8-4c25-a048-90a2d5126055"
      },
      "execution_count": 22,
      "outputs": [
        {
          "output_type": "display_data",
          "data": {
            "text/plain": [
              "<Figure size 640x480 with 1 Axes>"
            ],
            "image/png": "[encoded data removed]"
          },
          "metadata": {}
        }
      ]
    }
  ]
}